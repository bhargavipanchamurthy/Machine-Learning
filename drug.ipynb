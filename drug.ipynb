{
  "nbformat": 4,
  "nbformat_minor": 0,
  "metadata": {
    "colab": {
      "private_outputs": true,
      "provenance": []
    },
    "kernelspec": {
      "name": "python3",
      "display_name": "Python 3"
    },
    "language_info": {
      "name": "python"
    }
  },
  "cells": [
    {
      "cell_type": "code",
      "source": [
        "from google.colab import drive\n",
        "drive.mount('/content/drive')"
      ],
      "metadata": {
        "id": "JVzz3mMyE0BR"
      },
      "execution_count": null,
      "outputs": []
    },
    {
      "cell_type": "code",
      "source": [
        "pip install autocorrect\n"
      ],
      "metadata": {
        "id": "Mc-dhi5eE2O5"
      },
      "execution_count": null,
      "outputs": []
    },
    {
      "cell_type": "code",
      "source": [
        "pip install emoji"
      ],
      "metadata": {
        "id": "peYlkFVQE2Rp"
      },
      "execution_count": null,
      "outputs": []
    },
    {
      "cell_type": "code",
      "source": [
        "import pandas as pd\n",
        "import numpy as np\n",
        "import matplotlib.pyplot as plt\n",
        "import seaborn as sns\n",
        "import re\n",
        "from textblob import TextBlob as tb\n",
        "from autocorrect import Speller as sp\n",
        "import emoji\n",
        "import nltk\n",
        "from nltk.tokenize import word_tokenize as wt,sent_tokenize as st\n",
        "from nltk.corpus import stopwords\n",
        "from nltk import PorterStemmer,LancasterStemmer,SnowballStemmer\n",
        "from nltk import WordNetLemmatizer\n",
        "from sklearn.feature_extraction.text import CountVectorizer,TfidfVectorizer"
      ],
      "metadata": {
        "id": "cHuXBrKjE2ci"
      },
      "execution_count": null,
      "outputs": []
    },
    {
      "cell_type": "code",
      "source": [
        "nltk.download('punkt')\n",
        "nltk.download('stopwords')\n",
        "nltk.download('wordnet')"
      ],
      "metadata": {
        "id": "xFEaKEhzE2kQ"
      },
      "execution_count": null,
      "outputs": []
    },
    {
      "cell_type": "markdown",
      "source": [
        "**1.Problem Statement**"
      ],
      "metadata": {
        "id": "5hHKmfDhFGss"
      }
    },
    {
      "cell_type": "markdown",
      "source": [
        "\n",
        "\n",
        "* Create a model to classify the Drug type based on their features\n",
        "\n"
      ],
      "metadata": {
        "id": "OHVjbQwDFImo"
      }
    },
    {
      "cell_type": "markdown",
      "source": [
        "**2. Data Collection**"
      ],
      "metadata": {
        "id": "HjYIoHQ1FPLv"
      }
    },
    {
      "cell_type": "code",
      "source": [
        "# collect the dataset from kaggle,which is used to create a good model for classification\n",
        "data = pd.read_csv(r\"/content/drive/MyDrive/ML Tasks/Project 3 and assignment 8 to 10/drug200 (1).csv\")\n",
        "data.head()"
      ],
      "metadata": {
        "id": "AsM_He09E2ny"
      },
      "execution_count": null,
      "outputs": []
    },
    {
      "cell_type": "markdown",
      "source": [
        "**3. EDA and Pre-processing**"
      ],
      "metadata": {
        "id": "LclFsf1dFbjF"
      }
    },
    {
      "cell_type": "code",
      "source": [
        "data.shape   # data set contains 200 rows and 6 columns"
      ],
      "metadata": {
        "id": "IdwX4VG2E2qp"
      },
      "execution_count": null,
      "outputs": []
    },
    {
      "cell_type": "code",
      "source": [
        "data.info()"
      ],
      "metadata": {
        "id": "9KGqB1H2E2tI"
      },
      "execution_count": null,
      "outputs": []
    },
    {
      "cell_type": "markdown",
      "source": [
        "This data contains some numerical data and categorical data."
      ],
      "metadata": {
        "id": "Ylv6YrNZFiX4"
      }
    },
    {
      "cell_type": "code",
      "source": [
        "data.duplicated().sum()    # there is no duplicated values are here."
      ],
      "metadata": {
        "id": "tEqlzwUEFgS9"
      },
      "execution_count": null,
      "outputs": []
    },
    {
      "cell_type": "code",
      "source": [
        "data.Drug.value_counts()  # im balanced data"
      ],
      "metadata": {
        "id": "75UqMKmrFlGp"
      },
      "execution_count": null,
      "outputs": []
    },
    {
      "cell_type": "code",
      "source": [
        "data.Sex.unique()     # Sex feature contains two values male as M and female as F"
      ],
      "metadata": {
        "id": "QNtPhCgGFnZr"
      },
      "execution_count": null,
      "outputs": []
    },
    {
      "cell_type": "code",
      "source": [
        "data.BP.unique()      # BP feature contains three values HIGH,LOW and NORMAL."
      ],
      "metadata": {
        "id": "LJNwrXN7FpIs"
      },
      "execution_count": null,
      "outputs": []
    },
    {
      "cell_type": "code",
      "source": [
        "data.Cholesterol.unique()   # Cholesterol feature contains two values HIGH and NORMAL"
      ],
      "metadata": {
        "id": "lYFmuEa3FqnD"
      },
      "execution_count": null,
      "outputs": []
    },
    {
      "cell_type": "code",
      "source": [
        "data.Drug.unique()         # Drug feature contains FIVE values DrugY,drugC,drugX,drugA and drugB."
      ],
      "metadata": {
        "id": "O-0Gp8lPFr9K"
      },
      "execution_count": null,
      "outputs": []
    },
    {
      "cell_type": "code",
      "source": [
        "sns.countplot(data.Drug)\n",
        "plt.show()"
      ],
      "metadata": {
        "id": "eVey2au5FtbI"
      },
      "execution_count": null,
      "outputs": []
    },
    {
      "cell_type": "code",
      "source": [
        "fv = data.iloc[:,:-1]    # split data into features and class variables\n",
        "cv = data.iloc[:,-1]"
      ],
      "metadata": {
        "id": "Mljgp0F3Fu_S"
      },
      "execution_count": null,
      "outputs": []
    },
    {
      "cell_type": "code",
      "source": [
        "fv.head()"
      ],
      "metadata": {
        "id": "6b_UVtk4FwtC"
      },
      "execution_count": null,
      "outputs": []
    },
    {
      "cell_type": "code",
      "source": [
        "cv.head()"
      ],
      "metadata": {
        "id": "PvEHcE5XFyC6"
      },
      "execution_count": null,
      "outputs": []
    },
    {
      "cell_type": "code",
      "source": [
        "from sklearn.preprocessing import LabelEncoder"
      ],
      "metadata": {
        "id": "GRBg0bf8F0Ks"
      },
      "execution_count": null,
      "outputs": []
    },
    {
      "cell_type": "code",
      "source": [
        "lbe = LabelEncoder()    # create an instance of Lable encoder class"
      ],
      "metadata": {
        "id": "Z4OojNqLF1u0"
      },
      "execution_count": null,
      "outputs": []
    },
    {
      "cell_type": "code",
      "source": [
        "# convert categorical data into numerical using labelencoder\n",
        "fv[\"Sex\"] = lbe.fit_transform(fv[\"Sex\"])\n",
        "fv[\"BP\"] = lbe.fit_transform(fv[\"BP\"])\n",
        "fv[\"Cholesterol\"] = lbe.fit_transform(fv[\"Cholesterol\"])\n",
        "cv = lbe.fit_transform(cv)\n",
        "\n"
      ],
      "metadata": {
        "id": "JvcSuZuRF3Sa"
      },
      "execution_count": null,
      "outputs": []
    },
    {
      "cell_type": "code",
      "source": [
        "fv.head()"
      ],
      "metadata": {
        "id": "_dRNUQd3F42f"
      },
      "execution_count": null,
      "outputs": []
    },
    {
      "cell_type": "code",
      "source": [
        "cv = pd.Series(cv)\n",
        "cv.head()"
      ],
      "metadata": {
        "id": "6K-MNaYSF6M2"
      },
      "execution_count": null,
      "outputs": []
    },
    {
      "cell_type": "markdown",
      "source": [
        "**5. EDA**"
      ],
      "metadata": {
        "id": "9WqA9260F9cz"
      }
    },
    {
      "cell_type": "code",
      "source": [
        "# find the relation between features\n",
        "# Correlation matrix\n",
        "corr_matrix = fv.corr()\n",
        "corr_matrix"
      ],
      "metadata": {
        "id": "N-Xdec3KF7-3"
      },
      "execution_count": null,
      "outputs": []
    },
    {
      "cell_type": "code",
      "source": [
        "sns.heatmap(corr_matrix, annot=True, cmap='YlGnBu')\n",
        "plt.show()"
      ],
      "metadata": {
        "id": "73i7xTlfGALt"
      },
      "execution_count": null,
      "outputs": []
    },
    {
      "cell_type": "code",
      "source": [
        "from sklearn.model_selection import train_test_split"
      ],
      "metadata": {
        "id": "Ek4u6dBmGCBZ"
      },
      "execution_count": null,
      "outputs": []
    },
    {
      "cell_type": "code",
      "source": [
        "# split the features and class variable into x_train,y_train,x_test,y_test\n",
        "x_train,x_test,y_train,y_test = train_test_split(fv,cv,test_size=0.2,random_state=3,stratify = cv)"
      ],
      "metadata": {
        "id": "QkHIwY5VGDYO"
      },
      "execution_count": null,
      "outputs": []
    },
    {
      "cell_type": "code",
      "source": [
        "x_train.head()"
      ],
      "metadata": {
        "id": "ZP7-E0qBGE4Y"
      },
      "execution_count": null,
      "outputs": []
    },
    {
      "cell_type": "markdown",
      "source": [
        "Based on above graph and table, all the features are indipendent only.So we will go with Naive Bayes theroem"
      ],
      "metadata": {
        "id": "tjCvyP4zGI3-"
      }
    },
    {
      "cell_type": "markdown",
      "source": [
        "**Q-Q plot**\n",
        "\n",
        "*   Sorting values each feature\n",
        "*   find 100 percentiles\n",
        "\n"
      ],
      "metadata": {
        "id": "qUe6KJthGLaN"
      }
    },
    {
      "cell_type": "code",
      "source": [
        "import scipy.stats as ss"
      ],
      "metadata": {
        "id": "AVBiu458GGG1"
      },
      "execution_count": null,
      "outputs": []
    },
    {
      "cell_type": "code",
      "source": [
        "ss.probplot(x_train[\"Age\"],dist = \"norm\",fit = True,plot = plt)   # Age feature doesn't follow gaussian distribution\n",
        "plt.show()"
      ],
      "metadata": {
        "id": "e0RC5HTuGUTW"
      },
      "execution_count": null,
      "outputs": []
    },
    {
      "cell_type": "code",
      "source": [
        "ss.probplot(x_train[\"Na_to_K\"],dist = \"norm\",fit = True,plot = plt)    # Na_to_K features doesn't follow gaussian distribution.\n",
        "plt.show()\n"
      ],
      "metadata": {
        "id": "n8bUrphaGV2j"
      },
      "execution_count": null,
      "outputs": []
    },
    {
      "cell_type": "markdown",
      "source": [
        "so if we perform Guassian distribution , all the numerical variables are follows gaussian only.So we will transformation to convert gaussian distribution"
      ],
      "metadata": {
        "id": "-Y72YlYoGZeN"
      }
    },
    {
      "cell_type": "markdown",
      "source": [
        "**6.Feature Engineering**"
      ],
      "metadata": {
        "id": "ziRMvdaRGbhW"
      }
    },
    {
      "cell_type": "code",
      "source": [
        "from sklearn.preprocessing import FunctionTransformer,PowerTransformer"
      ],
      "metadata": {
        "id": "Kt-oclOoGXhC"
      },
      "execution_count": null,
      "outputs": []
    },
    {
      "cell_type": "code",
      "source": [
        "ft = FunctionTransformer(func = np.log)\n",
        "ss.probplot(ft.transform(x_train.Na_to_K),dist = \"norm\",fit = True,plot = plt)\n",
        "plt.show()\n",
        "\n",
        "# this is doesn't follows Gaussian perfectly, so we will use another functional transformation"
      ],
      "metadata": {
        "id": "6vDTVlOXGd7G"
      },
      "execution_count": null,
      "outputs": []
    },
    {
      "cell_type": "code",
      "source": [
        "ft = FunctionTransformer(func = np.square)\n",
        "ss.probplot(ft.transform(x_train.Na_to_K),dist = \"norm\",fit = True,plot = plt)\n",
        "plt.show()\n",
        "\n",
        "# this is doesn't follows Gaussian perfectly, so we will use another functional transformation.It is very bad ."
      ],
      "metadata": {
        "id": "WPjpuUIzGfe2"
      },
      "execution_count": null,
      "outputs": []
    },
    {
      "cell_type": "code",
      "source": [
        "ft = FunctionTransformer(func = np.sqrt)\n",
        "ss.probplot(ft.transform(x_train.Na_to_K),dist = \"norm\",fit = True,plot = plt)\n",
        "plt.show()\n",
        "\n",
        "# this is doesn't follows Gaussian perfectly, so we will use another functional transformation"
      ],
      "metadata": {
        "id": "L6LdZDU7GhR9"
      },
      "execution_count": null,
      "outputs": []
    },
    {
      "cell_type": "code",
      "source": [
        "def reci(x):\n",
        "    return 1/x\n",
        "ft = FunctionTransformer(func = reci)\n",
        "ss.probplot(ft.transform(x_train.Na_to_K),dist = \"norm\",fit = True,plot = plt)\n",
        "plt.show()\n",
        "\n",
        "# this is doesn't follows Gaussian perfectly, so we will use another functional transformation"
      ],
      "metadata": {
        "id": "olkMfhfCGjMM"
      },
      "execution_count": null,
      "outputs": []
    },
    {
      "cell_type": "code",
      "source": [
        "pt = PowerTransformer()\n",
        "ss.probplot(pt.fit_transform(x_train.Na_to_K.values.reshape(-1, 1)).ravel(),dist = \"norm\",fit = True,plot = plt)\n",
        "plt.show()\n",
        "\n",
        " # this is follows Gaussian distribution, so we will go with Power transformation (yeo-johnson)"
      ],
      "metadata": {
        "id": "UsbOXTfbGlMS"
      },
      "execution_count": null,
      "outputs": []
    },
    {
      "cell_type": "code",
      "source": [
        "x_train[\"Na_to_K\"] = pt.fit_transform(x_train.Na_to_K.values.reshape(-1, 1)).ravel()     # Transfer x_train[\"Na_to_K\"] to Gaussian"
      ],
      "metadata": {
        "id": "gYVV7VEfGnEP"
      },
      "execution_count": null,
      "outputs": []
    },
    {
      "cell_type": "code",
      "source": [
        "x_train"
      ],
      "metadata": {
        "id": "7WpBS8khGohQ"
      },
      "execution_count": null,
      "outputs": []
    },
    {
      "cell_type": "markdown",
      "source": [
        "Based on above graphs, all the features follows Gaussian distribution,So we performe Gaussian Naive bayes"
      ],
      "metadata": {
        "id": "IWYmt8iQGt8O"
      }
    },
    {
      "cell_type": "code",
      "source": [],
      "metadata": {
        "id": "NIt_VsMyGudb"
      },
      "execution_count": null,
      "outputs": []
    },
    {
      "cell_type": "markdown",
      "source": [
        "**7.Training**"
      ],
      "metadata": {
        "id": "E86_gDt4GwC2"
      }
    },
    {
      "cell_type": "code",
      "source": [
        "pip install mixed-naive-bayes"
      ],
      "metadata": {
        "id": "XmoxPUNIGyCJ"
      },
      "execution_count": null,
      "outputs": []
    },
    {
      "cell_type": "code",
      "source": [
        "from mixed_naive_bayes import MixedNB"
      ],
      "metadata": {
        "id": "_vWYcQ4wGziN"
      },
      "execution_count": null,
      "outputs": []
    },
    {
      "cell_type": "code",
      "source": [
        "# create an object of MixedNB class\n",
        "mb = MixedNB(categorical_features = [1,2,3])   # it will perform both categorical and numerical Naive bayes.\n",
        "\n",
        "# fit x_train and y_train based on Mixed NB\n",
        "model = mb.fit(x_train,y_train)"
      ],
      "metadata": {
        "id": "t_AGDsrMG15X"
      },
      "execution_count": null,
      "outputs": []
    },
    {
      "cell_type": "markdown",
      "source": [
        "then finally we create a model for the Mixed Naive bayes"
      ],
      "metadata": {
        "id": "K3n6xFd5G574"
      }
    },
    {
      "cell_type": "markdown",
      "source": [
        "**finding precission score of model**"
      ],
      "metadata": {
        "id": "ThLSyPhPG9h5"
      }
    },
    {
      "cell_type": "code",
      "source": [
        "from sklearn.metrics import accuracy_score,confusion_matrix,precision_score,recall_score,RocCurveDisplay,f1_score\n",
        "\n",
        "confusion_matrix(y_test,model.predict(x_test))"
      ],
      "metadata": {
        "id": "riCuEryaG17z"
      },
      "execution_count": null,
      "outputs": []
    },
    {
      "cell_type": "code",
      "source": [
        "precision_score(y_test,model.predict(x_test),average=\"weighted\")     # it will give 95%"
      ],
      "metadata": {
        "id": "jiMmQsBvG1-M"
      },
      "execution_count": null,
      "outputs": []
    },
    {
      "cell_type": "code",
      "source": [
        "precision_score(y_test,model.predict(x_test),average=\"micro\")"
      ],
      "metadata": {
        "id": "yduK8voMG2Al"
      },
      "execution_count": null,
      "outputs": []
    },
    {
      "cell_type": "code",
      "source": [
        "precision_score(y_test,model.predict(x_test),average=\"macro\")     # it will give 98% using precision_score"
      ],
      "metadata": {
        "id": "EjTJvrCfG2Cm"
      },
      "execution_count": null,
      "outputs": []
    },
    {
      "cell_type": "code",
      "source": [
        "recall_score(y_test,model.predict(x_test),average=\"weighted\")"
      ],
      "metadata": {
        "id": "I-HIQ2CAHMji"
      },
      "execution_count": null,
      "outputs": []
    },
    {
      "cell_type": "code",
      "source": [
        "recall_score(y_test,model.predict(x_test),average=\"micro\")       # it will give 95% using recall_score"
      ],
      "metadata": {
        "id": "xppcy_orHMmM"
      },
      "execution_count": null,
      "outputs": []
    },
    {
      "cell_type": "code",
      "source": [
        "recall_score(y_test,model.predict(x_test),average=\"macro\")"
      ],
      "metadata": {
        "id": "z0wS8TPnHMon"
      },
      "execution_count": null,
      "outputs": []
    },
    {
      "cell_type": "code",
      "source": [
        "f1_score(y_test,model.predict(x_test),average=\"weighted\")"
      ],
      "metadata": {
        "id": "V_4Jz5D8HMs2"
      },
      "execution_count": null,
      "outputs": []
    },
    {
      "cell_type": "code",
      "source": [
        "f1_score(y_test,model.predict(x_test),average=\"micro\")"
      ],
      "metadata": {
        "id": "SOXoiS3IHMvD"
      },
      "execution_count": null,
      "outputs": []
    },
    {
      "cell_type": "code",
      "source": [
        "f1_score(y_test,model.predict(x_test),average=\"macro\")"
      ],
      "metadata": {
        "id": "8YG0adeIHMxd"
      },
      "execution_count": null,
      "outputs": []
    },
    {
      "cell_type": "markdown",
      "source": [
        "It will give the accuracy rate of 98% by using Precision_score"
      ],
      "metadata": {
        "id": "3zo0zfpWHXFy"
      }
    },
    {
      "cell_type": "markdown",
      "source": [
        "**8.Testing**"
      ],
      "metadata": {
        "id": "SXelKbHOHbRI"
      }
    },
    {
      "cell_type": "code",
      "source": [
        "lbe.classes_    # class labels of Drug column sequencially."
      ],
      "metadata": {
        "id": "9EUpDhmNHMz6"
      },
      "execution_count": null,
      "outputs": []
    },
    {
      "cell_type": "code",
      "source": [
        "dict = {}\n",
        "for i in lbe.classes_:                        # create a dictionary index of lbe.classes_ as key and lbe.classes_ as value\n",
        "  dict[list(lbe.classes_).index(i)] = i\n",
        "dict"
      ],
      "metadata": {
        "id": "bob0L2TXHM2a"
      },
      "execution_count": null,
      "outputs": []
    },
    {
      "cell_type": "code",
      "source": [
        "m = x_test.iloc[[2]]\n",
        "pred = model.predict(m)   # it is used to shows that predicted value\n",
        "print(dict[pred[0]])      # it will give Class label of drugs based on features"
      ],
      "metadata": {
        "id": "2HFcZ4zKHgbC"
      },
      "execution_count": null,
      "outputs": []
    },
    {
      "cell_type": "markdown",
      "source": [
        "i will give a query point from x_test.iloc[[2]] as input to the model,then it will returns class label is drugA"
      ],
      "metadata": {
        "id": "Xf1zPp4cHoJP"
      }
    },
    {
      "cell_type": "code",
      "source": [],
      "metadata": {
        "id": "Wqjo_12fHgdv"
      },
      "execution_count": null,
      "outputs": []
    },
    {
      "cell_type": "code",
      "source": [],
      "metadata": {
        "id": "QdYfBAZzHgf2"
      },
      "execution_count": null,
      "outputs": []
    },
    {
      "cell_type": "code",
      "source": [],
      "metadata": {
        "id": "LU_99uYtHgkq"
      },
      "execution_count": null,
      "outputs": []
    },
    {
      "cell_type": "code",
      "source": [],
      "metadata": {
        "id": "FUHlQpYgHgmm"
      },
      "execution_count": null,
      "outputs": []
    },
    {
      "cell_type": "code",
      "source": [],
      "metadata": {
        "id": "kmUAXCUfHgpg"
      },
      "execution_count": null,
      "outputs": []
    }
  ]
}